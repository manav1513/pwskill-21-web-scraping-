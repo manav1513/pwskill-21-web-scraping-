{
 "cells": [
  {
   "cell_type": "code",
   "execution_count": 1,
   "id": "bd42f85d-f2a7-4161-97e2-7dbf3f2776b4",
   "metadata": {},
   "outputs": [],
   "source": [
    "# Q1. What is Web Scraping? Why is it Used? Give \n",
    "\n",
    "# ans = What is Web Scraping? Why is it Used? Give three areas where Web Scraping\n",
    "# is used to get data.\n",
    "\n",
    "# Web Scraping is the process of extracting data from websites using automated \n",
    "# tools or bots. It involves using scripts or programs to automatically collect\n",
    "# large amounts of data from websites and saving it in a structured format for \n",
    "# further analysis.\n",
    "\n",
    "# Three areas where Web Scraping is commonly used to get data are:\n",
    "\n",
    "# E-commerce: Web scraping is used to collect data from online stores, including\n",
    "# product descriptions, prices, and reviews, which can be used for price \n",
    "# monitoring, competitive analysis, and market research.\n",
    "\n",
    "# Social Media: Web scraping is used to collect data from social media platforms\n",
    "# like Twitter, Facebook, and Instagram, which can be used for sentiment analysis\n",
    "# , trend analysis, and social listening.\n",
    "\n",
    "# Job Market: Web scraping is used to collect job postings from job boards and \n",
    "# career websites, which can be used for market research, salary analysis, and \n",
    "# job trend analysis.\n"
   ]
  },
  {
   "cell_type": "code",
   "execution_count": 2,
   "id": "f5804414-a646-40e3-8e0b-9e9ff3b33a56",
   "metadata": {},
   "outputs": [],
   "source": [
    "# Q2. What are the different methods used for Web Scraping?\n",
    "\n",
    "# There are several methods used for Web Scraping, including:\n",
    "\n",
    "# Parsing HTML with regular expressions: This involves using regular expressions\n",
    "# to extract data from HTML code.\n",
    "\n",
    "# DOM parsing: This involves using the Document Object Model (DOM) to parse HTML\n",
    "# and extract data.\n",
    "\n",
    "# CSS Selectors: This involves using CSS selectors to locate and extract \n",
    "# specific elements from HTML.\n",
    "\n",
    "# XPath: This involves using XPath expressions to extract data from XML and\n",
    "# HTML documents.\n",
    "\n",
    "# Headless Browsers: This involves using automated web browsers, such as \n",
    "# Selenium or Puppeteer, to extract data from websites.\n",
    "\n",
    "# API: This involves using APIs provided by websites to directly access and\n",
    "# retrieve data.\n"
   ]
  },
  {
   "cell_type": "code",
   "execution_count": 3,
   "id": "99682273-1bdd-48ad-8882-168131de64a7",
   "metadata": {},
   "outputs": [],
   "source": [
    "\n",
    "# Q3. What is Beautiful Soup? Why is it used?\n",
    "\n",
    "# Beautiful Soup is a Python library used for web scraping purposes. It provides\n",
    "# an easy-to-use interface for parsing HTML and XML documents and extracting \n",
    "# useful information from them.\n",
    "\n",
    "# Beautiful Soup is used for web scraping because it can handle malformed HTML\n",
    "# and parse documents quickly and efficiently. It also provides a wide range of\n",
    "# features for navigating and searching HTML documents, making it a powerful tool\n",
    "# for extracting data from websites."
   ]
  },
  {
   "cell_type": "code",
   "execution_count": 4,
   "id": "44e288c5-1394-4703-981e-551f29caf78d",
   "metadata": {},
   "outputs": [],
   "source": [
    "# Q4. Why is Flask used in this Web Scraping project?\n",
    "\n",
    "# Flask is a lightweight web application framework for Python. It is used in \n",
    "# this Web Scraping project to create a web application that displays the scraped\n",
    "# data. Flask provides a simple and easy-to-use interface for building web \n",
    "# applications and can be easily integrated with other Python libraries and \n",
    "# tools, making it a popular choice for web scraping projects.\n"
   ]
  },
  {
   "cell_type": "code",
   "execution_count": 5,
   "id": "ac93ce08-a0a3-4acc-85dd-7271cb232fdf",
   "metadata": {},
   "outputs": [],
   "source": [
    "# Q5. Write the names of AWS services used in this project. Also, explain the use of each service.\n",
    "\n",
    "# The AWS services used in this project are:\n",
    "\n",
    "# Amazon EC2: This service is used to host the web application and run the web \n",
    "# scraping scripts. It provides scalable computing capacity in the cloud, \n",
    "# making it a cost-effective solution for hosting web applications.\n",
    "\n",
    "\n"
   ]
  },
  {
   "cell_type": "code",
   "execution_count": null,
   "id": "71dbb0d9-164d-4be9-9e4e-236a7e1aeec1",
   "metadata": {},
   "outputs": [],
   "source": []
  }
 ],
 "metadata": {
  "kernelspec": {
   "display_name": "Python 3 (ipykernel)",
   "language": "python",
   "name": "python3"
  },
  "language_info": {
   "codemirror_mode": {
    "name": "ipython",
    "version": 3
   },
   "file_extension": ".py",
   "mimetype": "text/x-python",
   "name": "python",
   "nbconvert_exporter": "python",
   "pygments_lexer": "ipython3",
   "version": "3.10.8"
  }
 },
 "nbformat": 4,
 "nbformat_minor": 5
}
